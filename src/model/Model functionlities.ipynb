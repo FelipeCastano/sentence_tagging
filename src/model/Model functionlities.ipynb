{
 "cells": [
  {
   "cell_type": "code",
   "execution_count": 1,
   "id": "5b16625f-aa59-4683-bb10-5a584278c242",
   "metadata": {},
   "outputs": [],
   "source": [
    "from collections import defaultdict\n",
    "from utils import assign_unk_english, assign_unk_espanish, load_conllu_data, load_data_english\n",
    "from viterbi_tagger import ViterbiTagger"
   ]
  },
  {
   "cell_type": "markdown",
   "id": "df711273-fcdd-469b-8d44-723b8b4c25f4",
   "metadata": {},
   "source": [
    "### Loading data English"
   ]
  },
  {
   "cell_type": "code",
   "execution_count": 2,
   "id": "2f763428-f083-4d90-810f-9d57ee1fb757",
   "metadata": {},
   "outputs": [],
   "source": [
    "train_path = \"../../data/WSJ_02-21.pos\"\n",
    "test_path = \"../../data/WSJ_24.pos\"\n",
    "corpus_path = \"../../data/hmm_vocab.txt\"\n",
    "\n",
    "training_corpus, y, vocab = load_data_english(train_path, test_path, corpus_path)\n",
    "\n",
    "prep = []\n",
    "for item in y:\n",
    "    word = item.split('\\t')[0]\n",
    "    if not word in vocab.keys():\n",
    "        prep.append(assign_unk_english(word))\n",
    "    else:\n",
    "        prep.append(word)"
   ]
  },
  {
   "cell_type": "markdown",
   "id": "35e3856a-dcc3-4b73-a080-391d102ed307",
   "metadata": {},
   "source": [
    "### Preprocessing English"
   ]
  },
  {
   "cell_type": "code",
   "execution_count": 3,
   "id": "c57a547d-c212-42ef-ac8e-239173a98521",
   "metadata": {},
   "outputs": [
    {
     "name": "stdout",
     "output_type": "stream",
     "text": [
      "word count = 50000\n",
      "word count = 100000\n",
      "word count = 150000\n",
      "word count = 200000\n",
      "word count = 250000\n",
      "word count = 300000\n",
      "word count = 350000\n",
      "word count = 400000\n",
      "word count = 450000\n",
      "word count = 500000\n",
      "word count = 550000\n",
      "word count = 600000\n",
      "word count = 650000\n",
      "word count = 700000\n",
      "word count = 750000\n",
      "word count = 800000\n",
      "word count = 850000\n",
      "word count = 900000\n",
      "word count = 950000\n"
     ]
    }
   ],
   "source": [
    "alpha = 0.001\n",
    "tagger = ViterbiTagger(vocab, alpha)\n",
    "tagger.create_dictionaries(training_corpus, vocab)\n",
    "accuracy_predict_pos = tagger.predict_pos(prep, y)\n",
    "tagger.create_transition_matrix()\n",
    "tagger.create_emission_matrix()"
   ]
  },
  {
   "cell_type": "markdown",
   "id": "73a05c60-1a93-4687-8216-731eb4973dd1",
   "metadata": {},
   "source": [
    "### Classification English"
   ]
  },
  {
   "cell_type": "code",
   "execution_count": 4,
   "id": "c0a33be5-63e4-4a0c-8cdc-1d1e76624c1a",
   "metadata": {},
   "outputs": [
    {
     "name": "stdout",
     "output_type": "stream",
     "text": [
      "Words processed:     5000\n",
      "Words processed:    10000\n",
      "Words processed:    15000\n",
      "Words processed:    20000\n",
      "Words processed:    25000\n",
      "Words processed:    30000\n",
      "Accuracy of the Viterbi algorithm is 0.9542\n"
     ]
    }
   ],
   "source": [
    "tagger.initialize(prep)\n",
    "tagger.viterbi_forward(prep)\n",
    "pred = tagger.viterbi_backward(prep)\n",
    "print(f\"Accuracy of the Viterbi algorithm is {tagger.compute_accuracy(pred, y):.4f}\")"
   ]
  },
  {
   "cell_type": "markdown",
   "id": "8aa9ad91-5aa6-4430-a2d3-d9c1ba2bb9ae",
   "metadata": {},
   "source": [
    "### Loading data Spanish"
   ]
  },
  {
   "cell_type": "code",
   "execution_count": 5,
   "id": "5a7336c6-dbbc-40d0-9220-77b0977c0149",
   "metadata": {},
   "outputs": [],
   "source": [
    "train_file = \"../../data/es_ancora-ud-train.conllu\"\n",
    "test_file = \"../../data/es_ancora-ud-test.conllu\"\n",
    "training_corpus, y, vocab = load_conllu_data(train_file, test_file)"
   ]
  },
  {
   "cell_type": "code",
   "execution_count": 9,
   "id": "90ddbfb4-0d4a-4ce8-827a-9b6026cdce6b",
   "metadata": {},
   "outputs": [],
   "source": [
    "text = \"hola, como estas?\""
   ]
  },
  {
   "cell_type": "code",
   "execution_count": 10,
   "id": "a3801c40-ded4-434f-b0b5-d297ebd41859",
   "metadata": {},
   "outputs": [
    {
     "data": {
      "text/plain": [
       "['hola,', 'como', 'estas?']"
      ]
     },
     "execution_count": 10,
     "metadata": {},
     "output_type": "execute_result"
    }
   ],
   "source": [
    "text.split()"
   ]
  },
  {
   "cell_type": "code",
   "execution_count": 6,
   "id": "3e7b4d95-f7b1-4ef6-b7bd-6ef4ae24ed18",
   "metadata": {},
   "outputs": [],
   "source": [
    "prep = []\n",
    "for item in y:\n",
    "    word = item.split('\\t')[0]\n",
    "    if not word in vocab.keys():\n",
    "        prep.append(assign_unk_espanish(word))\n",
    "    else:\n",
    "        prep.append(word)"
   ]
  },
  {
   "cell_type": "markdown",
   "id": "64677a78-5e8b-48b8-82db-240cd497d097",
   "metadata": {},
   "source": [
    "### Preprocessing data Spanish"
   ]
  },
  {
   "cell_type": "code",
   "execution_count": 7,
   "id": "5b3297ad-96a6-4642-83b4-83602095dd89",
   "metadata": {},
   "outputs": [
    {
     "name": "stdout",
     "output_type": "stream",
     "text": [
      "word count = 50000\n",
      "word count = 100000\n",
      "word count = 150000\n",
      "word count = 200000\n",
      "word count = 250000\n",
      "word count = 300000\n",
      "word count = 350000\n",
      "word count = 400000\n",
      "word count = 450000\n"
     ]
    }
   ],
   "source": [
    "alpha = 0.001\n",
    "tagger = ViterbiTagger(vocab, alpha)\n",
    "tagger.create_dictionaries(training_corpus, vocab)\n",
    "accuracy_predict_pos = tagger.predict_pos(prep, y)\n",
    "tagger.create_transition_matrix()\n",
    "tagger.create_emission_matrix()"
   ]
  },
  {
   "cell_type": "markdown",
   "id": "a6cb7690-2047-4af5-9803-2b97bd308995",
   "metadata": {},
   "source": [
    "### Classification English"
   ]
  },
  {
   "cell_type": "code",
   "execution_count": 8,
   "id": "74c3ab58-2dc9-4fe9-bc9d-f491f73b799d",
   "metadata": {},
   "outputs": [
    {
     "name": "stdout",
     "output_type": "stream",
     "text": [
      "Words processed:     5000\n",
      "Words processed:    10000\n",
      "Words processed:    15000\n",
      "Words processed:    20000\n",
      "Words processed:    25000\n",
      "Words processed:    30000\n",
      "Words processed:    35000\n",
      "Words processed:    40000\n",
      "Words processed:    45000\n",
      "Words processed:    50000\n",
      "Words processed:    55000\n",
      "Accuracy of the Viterbi algorithm is 0.9361\n"
     ]
    }
   ],
   "source": [
    "tagger.initialize(prep)\n",
    "tagger.viterbi_forward(prep)\n",
    "pred = tagger.viterbi_backward(prep)\n",
    "print(f\"Accuracy of the Viterbi algorithm is {tagger.compute_accuracy(pred, y):.4f}\")"
   ]
  }
 ],
 "metadata": {
  "kernelspec": {
   "display_name": "Python 3 (ipykernel)",
   "language": "python",
   "name": "python3"
  },
  "language_info": {
   "codemirror_mode": {
    "name": "ipython",
    "version": 3
   },
   "file_extension": ".py",
   "mimetype": "text/x-python",
   "name": "python",
   "nbconvert_exporter": "python",
   "pygments_lexer": "ipython3",
   "version": "3.12.3"
  }
 },
 "nbformat": 4,
 "nbformat_minor": 5
}
